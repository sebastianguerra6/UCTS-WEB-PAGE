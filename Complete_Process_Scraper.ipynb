{
 "cells": [
  {
   "cell_type": "code",
   "execution_count": 1,
   "metadata": {},
   "outputs": [],
   "source": [
    "from bs4 import BeautifulSoup\n",
    "import pandas as pd\n",
    "import re\n",
    "import requests\n",
    "from selenium import webdriver\n",
    "from selenium.webdriver.support.ui import WebDriverWait\n",
    "from selenium.webdriver.support import expected_conditions as EC\n",
    "from selenium.webdriver.support.ui import Select\n",
    "import time\n",
    "from selenium.webdriver.common.by import By\n",
    "import requests\n",
    "import ast\n",
    "import plotly.graph_objects as go\n",
    "import plotly.express as px\n",
    "from tqdm import tqdm\n",
    "from datetime import datetime"
   ]
  },
  {
   "cell_type": "code",
   "execution_count": 2,
   "metadata": {},
   "outputs": [],
   "source": [
    "\n",
    "df_datasets = pd.read_excel('./src/combinaciones_palabras.xlsx')\n"
   ]
  },
  {
   "cell_type": "code",
   "execution_count": 3,
   "metadata": {},
   "outputs": [],
   "source": [
    "\n",
    "#df_datasets = df_datasets[df_datasets['Words'].str.contains('Analytical modeling|Food insecurity')]\n",
    "#df_datasets.reset_index(drop=True, inplace=True)\n",
    "#df_datasets"
   ]
  },
  {
   "cell_type": "code",
   "execution_count": 4,
   "metadata": {},
   "outputs": [],
   "source": [
    "driver = webdriver.Chrome()\n",
    "# Abre la página web\n",
    "campo = 'auxiliar de contabilidad'\n",
    "url = 'https://grants.nih.gov/funding/searchguide/index.html#/'\n",
    "driver.get(url)"
   ]
  },
  {
   "cell_type": "code",
   "execution_count": 5,
   "metadata": {},
   "outputs": [],
   "source": [
    "\n",
    "def find_number_results(word):\n",
    "\n",
    "    input_element = driver.find_element(By.ID, \"searchInputBox\")\n",
    "    input_element.clear()\n",
    "    \n",
    "\n",
    "    input_element.send_keys(f'\"{word}\"')\n",
    "    time.sleep(7)\n",
    "    driver.find_element(By.CLASS_NAME, \"input-group-text.primary\").click()\n",
    "\n",
    "    time.sleep(7)\n",
    "\n",
    "    try:\n",
    "        soup = BeautifulSoup(driver.page_source, 'html.parser')\n",
    "        span_tag = soup.find('span', attrs={'ng-show': 'totalresults > 0'}).text\n",
    "        expresion_regular = r\"Displaying: \\d+ to \\d+ of (\\d+) results\"\n",
    "        resultado = re.search(expresion_regular, span_tag)\n",
    "        valor_total = int(resultado.group(1))\n",
    "        return word, valor_total\n",
    "    except:\n",
    "        return word, 0\n"
   ]
  },
  {
   "cell_type": "code",
   "execution_count": 6,
   "metadata": {},
   "outputs": [
    {
     "ename": "NoSuchElementException",
     "evalue": "Message: no such element: Unable to locate element: {\"method\":\"css selector\",\"selector\":\"[id=\"inlineType\"]\"}\n  (Session info: chrome=129.0.6668.90); For documentation on this error, please visit: https://www.selenium.dev/documentation/webdriver/troubleshooting/errors#no-such-element-exception\nStacktrace:\n\tGetHandleVerifier [0x00007FF60978B675+29573]\n\t(No symbol) [0x00007FF6097004A0]\n\t(No symbol) [0x00007FF6095BB6EA]\n\t(No symbol) [0x00007FF60960F815]\n\t(No symbol) [0x00007FF60960FA6C]\n\t(No symbol) [0x00007FF60965B917]\n\t(No symbol) [0x00007FF60963733F]\n\t(No symbol) [0x00007FF6096586BC]\n\t(No symbol) [0x00007FF6096370A3]\n\t(No symbol) [0x00007FF6096012DF]\n\t(No symbol) [0x00007FF609602441]\n\tGetHandleVerifier [0x00007FF609ABC5BD+3375821]\n\tGetHandleVerifier [0x00007FF609B079B7+3684039]\n\tGetHandleVerifier [0x00007FF609AFCDDB+3640043]\n\tGetHandleVerifier [0x00007FF60984B7F6+816390]\n\t(No symbol) [0x00007FF60970B7AF]\n\t(No symbol) [0x00007FF6097075D4]\n\t(No symbol) [0x00007FF609707770]\n\t(No symbol) [0x00007FF6096F65CF]\n\tBaseThreadInitThunk [0x00007FFFC02A257D+29]\n\tRtlUserThreadStart [0x00007FFFC142AF08+40]\n",
     "output_type": "error",
     "traceback": [
      "\u001b[1;31m---------------------------------------------------------------------------\u001b[0m",
      "\u001b[1;31mNoSuchElementException\u001b[0m                    Traceback (most recent call last)",
      "Cell \u001b[1;32mIn[6], line 6\u001b[0m\n\u001b[0;32m      3\u001b[0m \u001b[38;5;28mlist\u001b[39m \u001b[38;5;241m=\u001b[39m {}\n\u001b[0;32m      4\u001b[0m total_words \u001b[38;5;241m=\u001b[39m \u001b[38;5;28mlen\u001b[39m(df_datasets)  \n\u001b[1;32m----> 6\u001b[0m select_element \u001b[38;5;241m=\u001b[39m \u001b[43mdriver\u001b[49m\u001b[38;5;241;43m.\u001b[39;49m\u001b[43mfind_element\u001b[49m\u001b[43m(\u001b[49m\u001b[43mBy\u001b[49m\u001b[38;5;241;43m.\u001b[39;49m\u001b[43mID\u001b[49m\u001b[43m,\u001b[49m\u001b[43m \u001b[49m\u001b[38;5;124;43m'\u001b[39;49m\u001b[38;5;124;43minlineType\u001b[39;49m\u001b[38;5;124;43m'\u001b[39;49m\u001b[43m)\u001b[49m\n\u001b[0;32m      7\u001b[0m select \u001b[38;5;241m=\u001b[39m Select(select_element)\n\u001b[0;32m      8\u001b[0m select\u001b[38;5;241m.\u001b[39mselect_by_value(\u001b[38;5;124m'\u001b[39m\u001b[38;5;124mobject:7\u001b[39m\u001b[38;5;124m'\u001b[39m)\n",
      "File \u001b[1;32m~\\AppData\\Local\\Packages\\PythonSoftwareFoundation.Python.3.11_qbz5n2kfra8p0\\LocalCache\\local-packages\\Python311\\site-packages\\selenium\\webdriver\\remote\\webdriver.py:748\u001b[0m, in \u001b[0;36mWebDriver.find_element\u001b[1;34m(self, by, value)\u001b[0m\n\u001b[0;32m    745\u001b[0m     by \u001b[38;5;241m=\u001b[39m By\u001b[38;5;241m.\u001b[39mCSS_SELECTOR\n\u001b[0;32m    746\u001b[0m     value \u001b[38;5;241m=\u001b[39m \u001b[38;5;124mf\u001b[39m\u001b[38;5;124m'\u001b[39m\u001b[38;5;124m[name=\u001b[39m\u001b[38;5;124m\"\u001b[39m\u001b[38;5;132;01m{\u001b[39;00mvalue\u001b[38;5;132;01m}\u001b[39;00m\u001b[38;5;124m\"\u001b[39m\u001b[38;5;124m]\u001b[39m\u001b[38;5;124m'\u001b[39m\n\u001b[1;32m--> 748\u001b[0m \u001b[38;5;28;01mreturn\u001b[39;00m \u001b[38;5;28;43mself\u001b[39;49m\u001b[38;5;241;43m.\u001b[39;49m\u001b[43mexecute\u001b[49m\u001b[43m(\u001b[49m\u001b[43mCommand\u001b[49m\u001b[38;5;241;43m.\u001b[39;49m\u001b[43mFIND_ELEMENT\u001b[49m\u001b[43m,\u001b[49m\u001b[43m \u001b[49m\u001b[43m{\u001b[49m\u001b[38;5;124;43m\"\u001b[39;49m\u001b[38;5;124;43musing\u001b[39;49m\u001b[38;5;124;43m\"\u001b[39;49m\u001b[43m:\u001b[49m\u001b[43m \u001b[49m\u001b[43mby\u001b[49m\u001b[43m,\u001b[49m\u001b[43m \u001b[49m\u001b[38;5;124;43m\"\u001b[39;49m\u001b[38;5;124;43mvalue\u001b[39;49m\u001b[38;5;124;43m\"\u001b[39;49m\u001b[43m:\u001b[49m\u001b[43m \u001b[49m\u001b[43mvalue\u001b[49m\u001b[43m}\u001b[49m\u001b[43m)\u001b[49m[\u001b[38;5;124m\"\u001b[39m\u001b[38;5;124mvalue\u001b[39m\u001b[38;5;124m\"\u001b[39m]\n",
      "File \u001b[1;32m~\\AppData\\Local\\Packages\\PythonSoftwareFoundation.Python.3.11_qbz5n2kfra8p0\\LocalCache\\local-packages\\Python311\\site-packages\\selenium\\webdriver\\remote\\webdriver.py:354\u001b[0m, in \u001b[0;36mWebDriver.execute\u001b[1;34m(self, driver_command, params)\u001b[0m\n\u001b[0;32m    352\u001b[0m response \u001b[38;5;241m=\u001b[39m \u001b[38;5;28mself\u001b[39m\u001b[38;5;241m.\u001b[39mcommand_executor\u001b[38;5;241m.\u001b[39mexecute(driver_command, params)\n\u001b[0;32m    353\u001b[0m \u001b[38;5;28;01mif\u001b[39;00m response:\n\u001b[1;32m--> 354\u001b[0m     \u001b[38;5;28;43mself\u001b[39;49m\u001b[38;5;241;43m.\u001b[39;49m\u001b[43merror_handler\u001b[49m\u001b[38;5;241;43m.\u001b[39;49m\u001b[43mcheck_response\u001b[49m\u001b[43m(\u001b[49m\u001b[43mresponse\u001b[49m\u001b[43m)\u001b[49m\n\u001b[0;32m    355\u001b[0m     response[\u001b[38;5;124m\"\u001b[39m\u001b[38;5;124mvalue\u001b[39m\u001b[38;5;124m\"\u001b[39m] \u001b[38;5;241m=\u001b[39m \u001b[38;5;28mself\u001b[39m\u001b[38;5;241m.\u001b[39m_unwrap_value(response\u001b[38;5;241m.\u001b[39mget(\u001b[38;5;124m\"\u001b[39m\u001b[38;5;124mvalue\u001b[39m\u001b[38;5;124m\"\u001b[39m, \u001b[38;5;28;01mNone\u001b[39;00m))\n\u001b[0;32m    356\u001b[0m     \u001b[38;5;28;01mreturn\u001b[39;00m response\n",
      "File \u001b[1;32m~\\AppData\\Local\\Packages\\PythonSoftwareFoundation.Python.3.11_qbz5n2kfra8p0\\LocalCache\\local-packages\\Python311\\site-packages\\selenium\\webdriver\\remote\\errorhandler.py:229\u001b[0m, in \u001b[0;36mErrorHandler.check_response\u001b[1;34m(self, response)\u001b[0m\n\u001b[0;32m    227\u001b[0m         alert_text \u001b[38;5;241m=\u001b[39m value[\u001b[38;5;124m\"\u001b[39m\u001b[38;5;124malert\u001b[39m\u001b[38;5;124m\"\u001b[39m]\u001b[38;5;241m.\u001b[39mget(\u001b[38;5;124m\"\u001b[39m\u001b[38;5;124mtext\u001b[39m\u001b[38;5;124m\"\u001b[39m)\n\u001b[0;32m    228\u001b[0m     \u001b[38;5;28;01mraise\u001b[39;00m exception_class(message, screen, stacktrace, alert_text)  \u001b[38;5;66;03m# type: ignore[call-arg]  # mypy is not smart enough here\u001b[39;00m\n\u001b[1;32m--> 229\u001b[0m \u001b[38;5;28;01mraise\u001b[39;00m exception_class(message, screen, stacktrace)\n",
      "\u001b[1;31mNoSuchElementException\u001b[0m: Message: no such element: Unable to locate element: {\"method\":\"css selector\",\"selector\":\"[id=\"inlineType\"]\"}\n  (Session info: chrome=129.0.6668.90); For documentation on this error, please visit: https://www.selenium.dev/documentation/webdriver/troubleshooting/errors#no-such-element-exception\nStacktrace:\n\tGetHandleVerifier [0x00007FF60978B675+29573]\n\t(No symbol) [0x00007FF6097004A0]\n\t(No symbol) [0x00007FF6095BB6EA]\n\t(No symbol) [0x00007FF60960F815]\n\t(No symbol) [0x00007FF60960FA6C]\n\t(No symbol) [0x00007FF60965B917]\n\t(No symbol) [0x00007FF60963733F]\n\t(No symbol) [0x00007FF6096586BC]\n\t(No symbol) [0x00007FF6096370A3]\n\t(No symbol) [0x00007FF6096012DF]\n\t(No symbol) [0x00007FF609602441]\n\tGetHandleVerifier [0x00007FF609ABC5BD+3375821]\n\tGetHandleVerifier [0x00007FF609B079B7+3684039]\n\tGetHandleVerifier [0x00007FF609AFCDDB+3640043]\n\tGetHandleVerifier [0x00007FF60984B7F6+816390]\n\t(No symbol) [0x00007FF60970B7AF]\n\t(No symbol) [0x00007FF6097075D4]\n\t(No symbol) [0x00007FF609707770]\n\t(No symbol) [0x00007FF6096F65CF]\n\tBaseThreadInitThunk [0x00007FFFC02A257D+29]\n\tRtlUserThreadStart [0x00007FFFC142AF08+40]\n"
     ]
    }
   ],
   "source": [
    "results = []\n",
    "\n",
    "list = {}\n",
    "total_words = len(df_datasets)  \n",
    "\n",
    "select_element = driver.find_element(By.ID, 'inlineType')\n",
    "select = Select(select_element)\n",
    "select.select_by_value('object:7')\n",
    "\n",
    "for i in tqdm(range(total_words), desc=\"Procesando palabras\"):\n",
    "    #print(df_datasets['Words'][i])\n",
    "    temporal = find_number_results(df_datasets['Words'][i])\n",
    "    results.append([temporal[0], temporal[1]])\n",
    "\n",
    "    if int(temporal[1]) > 0 and  int(temporal[1])<100:\n",
    "        select_element = driver.find_element(By.ID, \"selectPerPage\")\n",
    "        select = Select(select_element)\n",
    "        select.select_by_value(\"number:100\")\n",
    "\n",
    "        \n",
    "        soup = ''\n",
    "        #driver.execute_script(\"window.scrollTo(0, 0);\")\n",
    "        time.sleep(5)\n",
    "        soup = BeautifulSoup (driver.page_source, 'html.parser')\n",
    "            \n",
    "        for row in soup.select('tr.ng-scope'):\n",
    "            funding = {}\n",
    "            url = row.select('td a')[0]['href']\n",
    "            #print(url)\n",
    "            funding['word'] = df_datasets['Words'][i]\n",
    "            funding['title'] = row.select('td')[0].text.strip()\n",
    "            funding['nofo'] = row.select('td')[1].text.strip()\n",
    "            funding['issuing_organitation'] = row.select('td')[2].text.strip()\n",
    "\n",
    "            release_date = row.select('td')[3].text.strip()\n",
    "            if release_date != 'N/A':\n",
    "                funding['release_date'] = datetime.strptime(release_date, '%b %d, %Y')\n",
    "            else:\n",
    "                funding['release_date'] = release_date\n",
    "\n",
    "            expiration = row.select('td')[4].text.strip()\n",
    "            if expiration != 'N/A':\n",
    "                funding['expiration'] = datetime.strptime(expiration, '%b %d, %Y')\n",
    "            else:\n",
    "                funding['expiration'] = expiration\n",
    "\n",
    "            funding['activity_code'] = row.select('td')[5].text.strip()\n",
    "            list[url] = funding\n",
    "\n",
    "driver.quit()\n",
    "\n",
    "df = pd.DataFrame.from_dict(list, orient='index')\n",
    "df['url'] = df.index\n",
    "\n",
    "df = df.reset_index(drop=True)\n",
    "df.head()\n",
    "df.to_excel('./src/listado.xlsx')\n",
    "\n",
    "\n",
    "df_resultado = pd.DataFrame(results, columns=['words', 'Results'])\n",
    "\n",
    "print(\"Proceso completado. Resultados almacenados en df_resultado.\")\n",
    "df_resultado.to_excel('./src/Resultados.xlsx')\n",
    "\n",
    "\n"
   ]
  },
  {
   "cell_type": "markdown",
   "metadata": {},
   "source": [
    "#################################################################\n",
    "\n",
    "Segunda Parte\n",
    "\n",
    "#################################################################"
   ]
  },
  {
   "cell_type": "markdown",
   "metadata": {},
   "source": [
    "### Recorrido por cada una de las URLS"
   ]
  },
  {
   "cell_type": "code",
   "execution_count": 5,
   "metadata": {},
   "outputs": [],
   "source": [
    "pd_listado_url = pd.read_excel('./listado.xlsx')"
   ]
  },
  {
   "cell_type": "code",
   "execution_count": 60,
   "metadata": {},
   "outputs": [
    {
     "name": "stdout",
     "output_type": "stream",
     "text": [
      "https://grants.nih.gov/grants/guide/notice-files/NOT-OD-22-135.html  -  Notice of Special Interest (NOSI): Stimulating Research to Understand and Address Hunger, Food and Nutrition Insecurity\n",
      "\n",
      "\n",
      "Notice of Special Interest (NOSI): Stimulating Research to Understand and Address Hunger, Food and Nutrition Insecurity\n",
      "https://grants.nih.gov/grants/guide/rfa-files/RFA-MD-24-005.html  -  Elucidating Mechanisms Associated with HIV Related Co-Morbidities in Populations Experiencing Health Disparities (R01 - Clinical Trials Not Allowed)\n",
      "https://grants.nih.gov/grants/guide/pa-files/PAS-24-163.html  -  Priority HIV/AIDS Research within the Mission of NIDDK (R01 Clinical Trial Optional)\n",
      "https://grants.nih.gov/grants/guide/rfa-files/RFA-DK-25-001.html  -  Addressing the Impact of Syndemics on the Health of People with HIV and Diseases and Conditions within the Missions of NIDDK and NHLBI (R01 Clinical Trial Optional)\n",
      "https://grants.nih.gov/grants/guide/rfa-files/RFA-DA-25-048.html  -  Seeking Products to Address Social Needs impacting Substance Use Disorders (SUD) (R43/R44 Clinical Trial Optional)\n",
      "https://grants.nih.gov/grants/guide/rfa-files/RFA-DA-25-047.html  -  Seeking Products to Address Social Needs impacting Substance Use Disorders (SUD) (R41/R42 Clinical Trial Optional)\n",
      "https://grants.nih.gov/grants/guide/pa-files/PAR-24-162.html  -  Pilot Studies of Biological, Behavioral and Social Mechanisms Contributing to HIV Pathogenesis Within the Mission of NIDDK (R21 Clinical Trial Not Allowed)\n",
      "https://grants.nih.gov/grants/guide/pa-files/PAR-24-207.html  -  Interventions to Address Disparities in Liver Diseases and Liver Cancer (R01 - Clinical Trials Optional)\n",
      "https://grants.nih.gov/grants/guide/pa-files/PAR-24-077.html  -  Addressing Health and Health Care Disparities among Sexual and Gender Minority Populations (R01 - Clinical Trials Optional)\n",
      "https://grants.nih.gov/grants/guide/rfa-files/RFA-DA-25-003.html  -  Cohort Studies of HIV/AIDS and Substance Use (U01 Clinical Trial Not Allowed)\n"
     ]
    }
   ],
   "source": [
    "for i in range(len(pd_listado_url.head(10))):\n",
    "\n",
    "    print(pd_listado_url['url'][i], ' - ', pd_listado_url['title'][i])\n",
    "    \n",
    "    response = requests.get(pd_listado_url['url'][i])\n",
    "    html_content = response.text\n",
    "\n",
    "    html = BeautifulSoup (html_content, 'html.parser')\n",
    "\n",
    "    nombre_archivo = str('./funding/{}.txt').format(str(pd_listado_url['url'][i]).split('/')[-1:][0].replace('.html',''))\n",
    "    with open(nombre_archivo, 'w') as archivo:\n",
    "        archivo.write(str(html))\n",
    "    time.sleep(3)\n",
    "    "
   ]
  },
  {
   "cell_type": "code",
   "execution_count": null,
   "metadata": {},
   "outputs": [],
   "source": []
  }
 ],
 "metadata": {
  "kernelspec": {
   "display_name": "Python 3",
   "language": "python",
   "name": "python3"
  },
  "language_info": {
   "codemirror_mode": {
    "name": "ipython",
    "version": 3
   },
   "file_extension": ".py",
   "mimetype": "text/x-python",
   "name": "python",
   "nbconvert_exporter": "python",
   "pygments_lexer": "ipython3",
   "version": "3.11.9"
  }
 },
 "nbformat": 4,
 "nbformat_minor": 2
}
